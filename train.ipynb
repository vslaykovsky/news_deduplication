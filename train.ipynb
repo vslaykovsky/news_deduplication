{
 "cells": [
  {
   "cell_type": "markdown",
   "metadata": {},
   "source": [
    "# Detect news duplicates\n",
    "## Prepare training data\n"
   ]
  },
  {
   "cell_type": "code",
   "execution_count": 6,
   "metadata": {
    "pycharm": {
     "name": "#%%\n"
    }
   },
   "outputs": [],
   "source": [
    "import time\n",
    "import nltk.data\n",
    "import nltk\n",
    "from tqdm import tqdm"
   ]
  },
  {
   "cell_type": "code",
   "execution_count": 7,
   "metadata": {
    "pycharm": {
     "name": "#%%\n"
    }
   },
   "outputs": [
    {
     "name": "stderr",
     "output_type": "stream",
     "text": [
      "[nltk_data] Downloading package punkt to\n",
      "[nltk_data]     C:\\Users\\vslay\\AppData\\Roaming\\nltk_data...\n",
      "[nltk_data]   Package punkt is already up-to-date!\n"
     ]
    }
   ],
   "source": [
    "nltk.download('punkt')\n",
    "sent_detector = nltk.data.load('tokenizers/punkt/english.pickle')    \n",
    "\n",
    "def truncate_text(text:str, size=512) -> str:\n",
    "    sentences = sent_detector.tokenize(text.strip())\n",
    "    for i in range(len(sentences)+1):\n",
    "        if len(' '.join(sentences[:i])) > size:\n",
    "            return ' '.join(sentences[:max(i-1, 1)])\n",
    "    return text\n",
    "\n",
    "text = '''\n",
    "Punkt knows that the periods in Mr. Smith and Johann S. Bach\n",
    "do not mark sentence boundaries.  And sometimes sentences\n",
    "can start with non-capitalized words.  i is a good variable\n",
    "name.\n",
    "'''\n",
    "\n",
    "assert 'Punkt knows that the periods in Mr. Smith and Johann S. ' \\\n",
    "       'Bach\\ndo not mark sentence boundaries. And sometimes sentences\\ncan ' \\\n",
    "       'start with non-capitalized words.' == truncate_text(text, 155)"
   ]
  },
  {
   "cell_type": "markdown",
   "metadata": {
    "pycharm": {
     "name": "#%% md\n"
    }
   },
   "source": [
    "Load and clean training data"
   ]
  },
  {
   "cell_type": "code",
   "execution_count": 8,
   "metadata": {
    "pycharm": {
     "name": "#%%\n"
    }
   },
   "outputs": [
    {
     "name": "stderr",
     "output_type": "stream",
     "text": [
      "C:\\Users\\vslay\\Anaconda3\\lib\\site-packages\\IPython\\core\\interactiveshell.py:3146: DtypeWarning: Columns (8) have mixed types.Specify dtype option on import or set low_memory=False.\n",
      "  has_raised = await self.run_ast_nodes(code_ast.body, cell_name,\n",
      "<ipython-input-8-f972659f867f>:12: SettingWithCopyWarning: \n",
      "A value is trying to be set on a copy of a slice from a DataFrame.\n",
      "Try using .loc[row_indexer,col_indexer] = value instead\n",
      "\n",
      "See the caveats in the documentation: https://pandas.pydata.org/pandas-docs/stable/user_guide/indexing.html#returning-a-view-versus-a-copy\n",
      "  df_news['topics'] = df_news['topics'].fillna('').apply(lambda v: set(v.split(',')))\n"
     ]
    }
   ],
   "source": [
    "import pandas as pd\n",
    "\n",
    "def clean_data(df_news):\n",
    "    df_news.index = df_news.index.rename('datetime')\n",
    "    df_news = df_news.rename(columns={'related': 'topics'})\n",
    "    df_news = df_news[df_news['lang'] == 'en'][['headline', 'summary', 'source', 'topics']].drop_duplicates()\n",
    "\n",
    "    bad_headline = df_news.groupby('headline').count().query('source > 3').index\n",
    "    bad_summary = df_news.groupby('summary').count().query('source > 3').index\n",
    "    df_news = df_news[~df_news['summary'].isin(bad_summary) & ~df_news['headline'].isin(bad_headline)]\n",
    "\n",
    "    df_news['topics'] = df_news['topics'].fillna('').apply(lambda v: set(v.split(',')))\n",
    "    df_news = df_news[~df_news['summary'].str.startswith('http')]\n",
    "    return df_news\n",
    "\n",
    "df_news = pd.read_csv('data/news.csv.tgz', compression='gzip', index_col='news.csv', parse_dates=True)\n",
    "df_news = clean_data(df_news)\n"
   ]
  },
  {
   "cell_type": "code",
   "execution_count": 9,
   "metadata": {
    "pycharm": {
     "name": "#%%\n"
    }
   },
   "outputs": [
    {
     "name": "stderr",
     "output_type": "stream",
     "text": [
      "\r",
      "Generating negative samples:   0%|          | 0/1000 [00:00<?, ?it/s]"
     ]
    },
    {
     "name": "stdout",
     "output_type": "stream",
     "text": [
      "Generated 1000 positive samples\n"
     ]
    },
    {
     "name": "stderr",
     "output_type": "stream",
     "text": [
      "                                                                                "
     ]
    },
    {
     "name": "stdout",
     "output_type": "stream",
     "text": [
      "Generated 994 negative samples\n"
     ]
    },
    {
     "name": "stderr",
     "output_type": "stream",
     "text": [
      "\r"
     ]
    },
    {
     "data": {
      "text/html": [
       "<div>\n",
       "<style scoped>\n",
       "    .dataframe tbody tr th:only-of-type {\n",
       "        vertical-align: middle;\n",
       "    }\n",
       "\n",
       "    .dataframe tbody tr th {\n",
       "        vertical-align: top;\n",
       "    }\n",
       "\n",
       "    .dataframe thead th {\n",
       "        text-align: right;\n",
       "    }\n",
       "</style>\n",
       "<table border=\"1\" class=\"dataframe\">\n",
       "  <thead>\n",
       "    <tr style=\"text-align: right;\">\n",
       "      <th></th>\n",
       "      <th>headline</th>\n",
       "      <th>summary</th>\n",
       "      <th>topics</th>\n",
       "      <th>labels</th>\n",
       "    </tr>\n",
       "  </thead>\n",
       "  <tbody>\n",
       "    <tr>\n",
       "      <th>0</th>\n",
       "      <td>Lehman, WorldCom And Now PG&amp;E: The \"Failing An...</td>\n",
       "      <td>One week ago when we wrote that with PG&amp;E faci...</td>\n",
       "      <td>{BAC}</td>\n",
       "      <td>1</td>\n",
       "    </tr>\n",
       "    <tr>\n",
       "      <th>1</th>\n",
       "      <td>Google Moved $23 Billion To Bermuda Tax Haven ...</td>\n",
       "      <td>Qualcomm’s revenue is expected to decline for ...</td>\n",
       "      <td>{AAPL}</td>\n",
       "      <td>0</td>\n",
       "    </tr>\n",
       "    <tr>\n",
       "      <th>2</th>\n",
       "      <td>Russia launched administrative action against ...</td>\n",
       "      <td>Watch Live: Yellow Vests Rage For 11th Straigh...</td>\n",
       "      <td>{FB}</td>\n",
       "      <td>0</td>\n",
       "    </tr>\n",
       "    <tr>\n",
       "      <th>3</th>\n",
       "      <td>Facebook posted record profit in the fourth qu...</td>\n",
       "      <td>Facebook Reports Record Profit</td>\n",
       "      <td>{FB}</td>\n",
       "      <td>1</td>\n",
       "    </tr>\n",
       "    <tr>\n",
       "      <th>4</th>\n",
       "      <td>Analysts Growing Bearish Ahead Of Earnings Fro...</td>\n",
       "      <td>Big banks Bank of America and Goldman Sachs re...</td>\n",
       "      <td>{BAC}</td>\n",
       "      <td>1</td>\n",
       "    </tr>\n",
       "    <tr>\n",
       "      <th>...</th>\n",
       "      <td>...</td>\n",
       "      <td>...</td>\n",
       "      <td>...</td>\n",
       "      <td>...</td>\n",
       "    </tr>\n",
       "    <tr>\n",
       "      <th>1989</th>\n",
       "      <td>Zimbabwe is once again at the brink of economi...</td>\n",
       "      <td>Protests Erupt As Zimbabwe Now Has The Most Ex...</td>\n",
       "      <td>{FB}</td>\n",
       "      <td>1</td>\n",
       "    </tr>\n",
       "    <tr>\n",
       "      <th>1990</th>\n",
       "      <td>The investment manager Parnassus Investments i...</td>\n",
       "      <td>Why a Big Investment Manager Bought Up Microso...</td>\n",
       "      <td>{MSF, MSFT}</td>\n",
       "      <td>1</td>\n",
       "    </tr>\n",
       "    <tr>\n",
       "      <th>1991</th>\n",
       "      <td>Macron Arrests \"Yellow Vest\" Organizer In Esca...</td>\n",
       "      <td>While this year's now-concluded World Economic...</td>\n",
       "      <td>{FB}</td>\n",
       "      <td>0</td>\n",
       "    </tr>\n",
       "    <tr>\n",
       "      <th>1992</th>\n",
       "      <td>Why Momentum Traded Amazon and Apple for Coca-...</td>\n",
       "      <td>The iShares Edge MSCI USA Momentum Factor ETF ...</td>\n",
       "      <td>{KO}</td>\n",
       "      <td>1</td>\n",
       "    </tr>\n",
       "    <tr>\n",
       "      <th>1993</th>\n",
       "      <td>House Democrats To Grill Mnuchin Over Russian ...</td>\n",
       "      <td>House Democrats have called on Treasury Secret...</td>\n",
       "      <td>{V}</td>\n",
       "      <td>1</td>\n",
       "    </tr>\n",
       "  </tbody>\n",
       "</table>\n",
       "<p>1994 rows × 4 columns</p>\n",
       "</div>"
      ],
      "text/plain": [
       "                                               headline  \\\n",
       "0     Lehman, WorldCom And Now PG&E: The \"Failing An...   \n",
       "1     Google Moved $23 Billion To Bermuda Tax Haven ...   \n",
       "2     Russia launched administrative action against ...   \n",
       "3     Facebook posted record profit in the fourth qu...   \n",
       "4     Analysts Growing Bearish Ahead Of Earnings Fro...   \n",
       "...                                                 ...   \n",
       "1989  Zimbabwe is once again at the brink of economi...   \n",
       "1990  The investment manager Parnassus Investments i...   \n",
       "1991  Macron Arrests \"Yellow Vest\" Organizer In Esca...   \n",
       "1992  Why Momentum Traded Amazon and Apple for Coca-...   \n",
       "1993  House Democrats To Grill Mnuchin Over Russian ...   \n",
       "\n",
       "                                                summary       topics  labels  \n",
       "0     One week ago when we wrote that with PG&E faci...        {BAC}       1  \n",
       "1     Qualcomm’s revenue is expected to decline for ...       {AAPL}       0  \n",
       "2     Watch Live: Yellow Vests Rage For 11th Straigh...         {FB}       0  \n",
       "3                        Facebook Reports Record Profit         {FB}       1  \n",
       "4     Big banks Bank of America and Goldman Sachs re...        {BAC}       1  \n",
       "...                                                 ...          ...     ...  \n",
       "1989  Protests Erupt As Zimbabwe Now Has The Most Ex...         {FB}       1  \n",
       "1990  Why a Big Investment Manager Bought Up Microso...  {MSF, MSFT}       1  \n",
       "1991  While this year's now-concluded World Economic...         {FB}       0  \n",
       "1992  The iShares Edge MSCI USA Momentum Factor ETF ...         {KO}       1  \n",
       "1993  House Democrats have called on Treasury Secret...          {V}       1  \n",
       "\n",
       "[1994 rows x 4 columns]"
      ]
     },
     "execution_count": 9,
     "metadata": {},
     "output_type": "execute_result"
    }
   ],
   "source": [
    "def gen_news_duplicates_data(\n",
    "        df: pd.DataFrame,\n",
    "        truncate: int=512,\n",
    "        negative_sample_min_time_difference: int=1 * 24 * 3600,\n",
    "        negative_sample_max_time_difference: int=30 * 24 * 3600,\n",
    ") -> pd.DataFrame:\n",
    "    df = df[['headline', 'summary', 'topics']].copy()\n",
    "    df['headline'] = df['headline'].apply(lambda s: truncate_text(s, truncate))\n",
    "    df['summary'] = df['summary'].apply(lambda s: truncate_text(s, truncate))\n",
    "    # positive samples\n",
    "    df_positive = df.sample(frac=1.0).copy()\n",
    "    df_positive['labels'] = 1\n",
    "    df_positive = pd.concat([\n",
    "        df_positive.head(len(df_positive) // 2),\n",
    "        df_positive.tail(len(df_positive) // 2).rename(columns={\n",
    "            'headline': 'summary',\n",
    "            'summary': 'headline'\n",
    "        })\n",
    "    ])\n",
    "    print(f'Generated {len(df_positive)} positive samples')\n",
    "    # negative samples\n",
    "    with tqdm(leave=False, mininterval=1, desc='Generating negative samples', total=len(df_positive)) as progress:\n",
    "        df_negative = []\n",
    "        for _, i1 in df.iterrows():\n",
    "            df_sample = df[\n",
    "                (\n",
    "                    (df.index < i1.name - pd.Timedelta(seconds=negative_sample_min_time_difference)) &\n",
    "                    (df.index > i1.name - pd.Timedelta(seconds=negative_sample_max_time_difference))\n",
    "                ) | (\n",
    "                    (df.index > i1.name + pd.Timedelta(seconds=negative_sample_min_time_difference)) &\n",
    "                    (df.index < i1.name + pd.Timedelta(seconds=negative_sample_max_time_difference))\n",
    "                )\n",
    "            ]\n",
    "            df_sample = df_sample[df_sample.apply(lambda v: len(v['topics'] & i1['topics']) > 0, axis=1)]\n",
    "            if len(df_sample) == 0:\n",
    "                continue\n",
    "            i2 = df_sample.sample().iloc[0]\n",
    "            time_diff = abs((i1.name - i2.name).total_seconds())\n",
    "\n",
    "            if negative_sample_min_time_difference < time_diff < negative_sample_max_time_difference:\n",
    "                df_negative.append({\n",
    "                    'headline': i1['headline'],\n",
    "                    'summary': i2['summary'],\n",
    "                    'topics': i1['topics'] & i2['topics'],\n",
    "                    'labels': 0\n",
    "                })\n",
    "                progress.update(1)\n",
    "    df_negative = pd.DataFrame(df_negative)\n",
    "    df_negative = pd.concat([\n",
    "        df_negative.head(len(df_negative) // 2),\n",
    "        df_negative.tail(len(df_negative) // 2).rename(columns={\n",
    "            'headline': 'summary',\n",
    "            'summary': 'headline'\n",
    "        })])\n",
    "    print(f'Generated {len(df_negative)} negative samples')\n",
    "\n",
    "    df_duplicates = pd.concat([df_positive, df_negative]).sample(frac=1.0).reset_index(drop=True)\n",
    "    return df_duplicates\n",
    "\n",
    "\n",
    "\n",
    "gen_news_duplicates_data(df_news.head(1000))"
   ]
  },
  {
   "cell_type": "markdown",
   "metadata": {
    "pycharm": {
     "name": "#%% md\n"
    }
   },
   "source": [
    "Generate training/test data"
   ]
  },
  {
   "cell_type": "code",
   "execution_count": 16,
   "metadata": {
    "pycharm": {
     "name": "#%%\n"
    }
   },
   "outputs": [],
   "source": [
    "import os\n",
    "if os.path.exists('data/news.train.csv.tgz'):\n",
    "    df_duplicates_train = pd.read_csv('data/news.train.csv.tgz', compression='gzip')\n",
    "else:\n",
    "    print('Generating training data')\n",
    "    df_duplicates_train = gen_news_duplicates_data(\n",
    "        df_news[(df_news.index >= '2019-01-01') & (df_news.index < '2020-11-01')]\n",
    "    )\n",
    "    print('Training data', len(df_duplicates_train), 'samples')\n",
    "    df_duplicates_train.to_csv('data/news.train.csv.tgz', compression='gzip', index=False)\n",
    "\n",
    "    \n"
   ]
  },
  {
   "cell_type": "code",
   "execution_count": 18,
   "metadata": {
    "pycharm": {
     "name": "#%%\n"
    }
   },
   "outputs": [],
   "source": [
    "if os.path.exists('data/news.test.csv.tgz'):\n",
    "    df_duplicates_test = pd.read_csv('data/news.test.csv.tgz', compression='gzip')\n",
    "else:\n",
    "    print('Generating test data')\n",
    "    df_duplicates_test = gen_news_duplicates_data(\n",
    "        df_news[(df_news.index >= '2020-11-01') & (df_news.index < '2021-01-01')]\n",
    "    )\n",
    "    print('Test data', len(df_duplicates_test), 'samples')\n",
    "    df_duplicates_test.to_csv('data/news.test.csv.tgz', compression='gzip', index=False)\n"
   ]
  },
  {
   "cell_type": "markdown",
   "metadata": {},
   "source": [
    "## Train duplicates detection model"
   ]
  },
  {
   "cell_type": "code",
   "execution_count": 3,
   "metadata": {
    "pycharm": {
     "name": "#%%\n"
    }
   },
   "outputs": [
    {
     "name": "stderr",
     "output_type": "stream",
     "text": [
      "Some weights of the model checkpoint at roberta-base were not used when initializing RobertaForSequenceClassification: ['lm_head.bias', 'lm_head.dense.weight', 'lm_head.dense.bias', 'lm_head.layer_norm.weight', 'lm_head.layer_norm.bias', 'lm_head.decoder.weight']\n",
      "- This IS expected if you are initializing RobertaForSequenceClassification from the checkpoint of a model trained on another task or with another architecture (e.g. initializing a BertForSequenceClassification model from a BertForPreTraining model).\n",
      "- This IS NOT expected if you are initializing RobertaForSequenceClassification from the checkpoint of a model that you expect to be exactly identical (initializing a BertForSequenceClassification model from a BertForSequenceClassification model).\n",
      "Some weights of RobertaForSequenceClassification were not initialized from the model checkpoint at roberta-base and are newly initialized: ['classifier.dense.weight', 'classifier.dense.bias', 'classifier.out_proj.weight', 'classifier.out_proj.bias']\n",
      "You should probably TRAIN this model on a down-stream task to be able to use it for predictions and inference.\n"
     ]
    }
   ],
   "source": [
    "from simpletransformers.classification import ClassificationModel, ClassificationArgs\n",
    "import torch \n",
    "model_news_dup = ClassificationModel(\n",
    "    'roberta',\n",
    "    'roberta-base',\n",
    "    num_labels=2,\n",
    "    use_cuda=True, \n",
    "    cuda_device=0,\n",
    "    args=ClassificationArgs(\n",
    "        fp16=True, \n",
    "        dataloader_num_workers=1,        \n",
    "        use_multiprocessing=False,\n",
    "        use_multiprocessing_for_evaluation=False,\n",
    "        \n",
    "        # \"RoBERTa: A Robustly Optimized BERT Pretraining Approach\". Optimal batch size is 32, optimal LR=1e-5\n",
    "        eval_batch_size=32,\n",
    "        train_batch_size=32,\n",
    "        overwrite_output_dir=True,\n",
    "        num_train_epochs=1,\n",
    "        reprocess_input_data=False,\n",
    "        best_model_dir='model/roberta_news_duplicates',\n",
    "        \n",
    "        # disabling all LR improvements\n",
    "        adafactor_relative_step=False,\n",
    "        adafactor_scale_parameter=False,\n",
    "        adafactor_warmup_init=False,\n",
    "        polynomial_decay_schedule_lr_end=1e-5,\n",
    "        learning_rate=1e-5,\n",
    "        warmup_ratio=0.,\n",
    "        \n",
    "        use_early_stopping=False, \n",
    "        early_stopping_consider_epochs=True,\n",
    "        early_stopping_patience=2,\n",
    "        \n",
    "        evaluate_during_training=True, \n",
    "        evaluate_during_training_verbose=True,\n",
    "        evaluate_during_training_steps=2500,\n",
    "        use_cached_eval_features=True,\n",
    "        save_model_every_epoch=True,\n",
    "        \n",
    "        save_eval_checkpoints=False, \n",
    "        save_steps=100000000,\n",
    "    )    \n",
    ") \n",
    "\n",
    "\n",
    "\n"
   ]
  },
  {
   "cell_type": "code",
   "execution_count": null,
   "metadata": {},
   "outputs": [],
   "source": [
    "model_news_dup.train_model(\n",
    "    df_duplicates_train.rename(columns={'headline': 'text_a', 'summary': 'text_b'}),\n",
    "    eval_df=df_duplicates_test.rename(columns={'headline': 'text_a', 'summary': 'text_b'}),\n",
    ")"
   ]
  },
  {
   "cell_type": "markdown",
   "metadata": {},
   "source": [
    "## Evaluation"
   ]
  },
  {
   "cell_type": "code",
   "execution_count": 21,
   "metadata": {},
   "outputs": [],
   "source": [
    "from simpletransformers.classification import ClassificationModel, ClassificationArgs\n",
    "import torch \n",
    "model_news_dup = ClassificationModel(\n",
    "    'roberta',\n",
    "    'model/roberta_news_duplicates',\n",
    "    use_cuda=torch.cuda.is_available(), \n",
    "    args=ClassificationArgs(\n",
    "        fp16=True, \n",
    "        dataloader_num_workers=1,        \n",
    "        use_multiprocessing_for_evaluation=False,\n",
    "        eval_batch_size=32,\n",
    "    )    \n",
    ") \n",
    "\n",
    "\n"
   ]
  },
  {
   "cell_type": "code",
   "execution_count": 22,
   "metadata": {},
   "outputs": [
    {
     "data": {
      "application/vnd.jupyter.widget-view+json": {
       "model_id": "9b8e4173a6ae4d74a64e905a174895ff",
       "version_major": 2,
       "version_minor": 0
      },
      "text/plain": [
       "HBox(children=(HTML(value='Running Evaluation'), FloatProgress(value=0.0, max=955.0), HTML(value='')))"
      ]
     },
     "metadata": {},
     "output_type": "display_data"
    },
    {
     "name": "stdout",
     "output_type": "stream",
     "text": [
      "\n"
     ]
    },
    {
     "data": {
      "text/plain": [
       "({'mcc': 0.9071855999740813,\n",
       "  'tp': 14653,\n",
       "  'tn': 14461,\n",
       "  'fp': 805,\n",
       "  'fn': 613,\n",
       "  'auroc': 0.9912327531775954,\n",
       "  'auprc': 0.9915184749678183,\n",
       "  'eval_loss': 0.14305145395493027},\n",
       " array([[-3.21679688,  3.45898438],\n",
       "        [-3.16992188,  3.35742188],\n",
       "        [-2.99609375,  3.08007812],\n",
       "        ...,\n",
       "        [-3.171875  ,  3.36132812],\n",
       "        [-2.4140625 ,  2.28710938],\n",
       "        [-3.22265625,  3.4609375 ]]),\n",
       " [])"
      ]
     },
     "execution_count": 22,
     "metadata": {},
     "output_type": "execute_result"
    }
   ],
   "source": [
    "model_news_dup.eval_model(\n",
    "    df_duplicates_test.rename(columns={'headline': 'text_a', 'summary': 'text_b'})[['text_a', 'text_b','labels']]\n",
    ")"
   ]
  },
  {
   "cell_type": "code",
   "execution_count": 24,
   "metadata": {},
   "outputs": [
    {
     "data": {
      "application/vnd.jupyter.widget-view+json": {
       "model_id": "673521db5cdb4bcf9933d27df89b1a0f",
       "version_major": 2,
       "version_minor": 0
      },
      "text/plain": [
       "HBox(children=(HTML(value=''), FloatProgress(value=0.0, max=955.0), HTML(value='')))"
      ]
     },
     "metadata": {},
     "output_type": "display_data"
    },
    {
     "name": "stdout",
     "output_type": "stream",
     "text": [
      "\n"
     ]
    }
   ],
   "source": [
    "pred1 = model_news_dup.predict(\n",
    "    df_duplicates_test.rename(columns={'headline': 'text_a', 'summary': 'text_b'})[['text_a', 'text_b']].values.tolist()\n",
    ")\n",
    "\n",
    "pred2 = model_news_dup.predict(\n",
    "    df_duplicates_test.rename(columns={'headline': 'text_b', 'summary': 'text_a'})[['text_a', 'text_b']].values.tolist()\n",
    ")"
   ]
  },
  {
   "cell_type": "code",
   "execution_count": 34,
   "metadata": {},
   "outputs": [
    {
     "name": "stdout",
     "output_type": "stream",
     "text": [
      "Single test accuracy: 0.953556923883139 0.9534259137953622\n"
     ]
    }
   ],
   "source": [
    "print('Single test accuracy:', (pred1[0] == df_duplicates_test['labels']).mean(), (pred2[0] == df_duplicates_test['labels']).mean())"
   ]
  },
  {
   "cell_type": "code",
   "execution_count": 43,
   "metadata": {},
   "outputs": [
    {
     "name": "stdout",
     "output_type": "stream",
     "text": [
      "Double test accuracy 0.9556858378095113\n"
     ]
    }
   ],
   "source": [
    "import numpy as np\n",
    "print('Double test accuracy', np.mean(((pred1[0] == 1) & (pred2[0] == 1)) == df_duplicates_test['labels']))"
   ]
  },
  {
   "cell_type": "code",
   "execution_count": 65,
   "metadata": {},
   "outputs": [
    {
     "data": {
      "image/png": "[encoded data removed]",
      "text/plain": [
       "<Figure size 1440x1440 with 1 Axes>"
      ]
     },
     "metadata": {
      "needs_background": "light"
     },
     "output_type": "display_data"
    }
   ],
   "source": [
    "from sklearn.metrics import roc_curve, auc\n",
    "from scipy.special import softmax\n",
    "from matplotlib import pyplot\n",
    "\n",
    "\n",
    "\n",
    "pyplot.figure(figsize=(20, 20))\n",
    "\n",
    "fpr, tpr, _ = roc_curve(df_duplicates_test['labels'], softmax(pred1[1], axis=1)[:, 1])\n",
    "pyplot.plot(fpr, tpr, linestyle='--', label='Comparing title(article1) to body(article2)')\n",
    "\n",
    "\n",
    "fpr, tpr, _ = roc_curve(df_duplicates_test['labels'],  (softmax(pred1[1], axis=1)[:, 1] + softmax(pred2[1], axis=1)[:, 1]) / 2)\n",
    "pyplot.plot(fpr, tpr, linestyle='-', label='Comparing title(article1) to body(article2) and body(article1) to title(article2)')\n",
    "pyplot.title('ROC curve')\n",
    "pyplot.legend()\n",
    "pyplot.show()"
   ]
  },
  {
   "cell_type": "markdown",
   "metadata": {},
   "source": [
    "# Predict"
   ]
  },
  {
   "cell_type": "code",
   "execution_count": 76,
   "metadata": {},
   "outputs": [
    {
     "data": {
      "application/vnd.jupyter.widget-view+json": {
       "model_id": "84be67f2e0ea43629fe2b8fa3d861782",
       "version_major": 2,
       "version_minor": 0
      },
      "text/plain": [
       "HBox(children=(HTML(value=''), FloatProgress(value=0.0, max=1.0), HTML(value='')))"
      ]
     },
     "metadata": {},
     "output_type": "display_data"
    },
    {
     "name": "stdout",
     "output_type": "stream",
     "text": [
      "\n"
     ]
    },
    {
     "data": {
      "text/plain": [
       "array([0], dtype=int64)"
      ]
     },
     "execution_count": 76,
     "metadata": {},
     "output_type": "execute_result"
    }
   ],
   "source": [
    "# Negative example\n",
    "model_news_dup.predict([\n",
    "    [\n",
    "        'Coronavirus: Third wave will \"wash up on our shores\", warns Johnson', \n",
    "        'Some 18,000 people have been evacuated from severe floods across New South Wales (NSW) in Australia, with more heavy rainfall predicted.'\n",
    "    ]\n",
    "])[0]"
   ]
  },
  {
   "cell_type": "code",
   "execution_count": 77,
   "metadata": {},
   "outputs": [
    {
     "data": {
      "application/vnd.jupyter.widget-view+json": {
       "model_id": "55a99804f20d47b4b5fc71cd228ad433",
       "version_major": 2,
       "version_minor": 0
      },
      "text/plain": [
       "HBox(children=(HTML(value=''), FloatProgress(value=0.0, max=1.0), HTML(value='')))"
      ]
     },
     "metadata": {},
     "output_type": "display_data"
    },
    {
     "name": "stdout",
     "output_type": "stream",
     "text": [
      "\n"
     ]
    },
    {
     "data": {
      "text/plain": [
       "array([1], dtype=int64)"
      ]
     },
     "execution_count": 77,
     "metadata": {},
     "output_type": "execute_result"
    }
   ],
   "source": [
    "# Positive example\n",
    "model_news_dup.predict([\n",
    "    [\n",
    "        'Coronavirus: Third wave will \"wash up on our shores\", warns Johnson', \n",
    "        'Boris Johnson has warned the effects of a third wave of coronavirus will \"wash up on our shores\" from Europe. The PM said the UK should be \"under no illusion\" we will \"feel effects\" of growing cases on the continent'\n",
    "    ]\n",
    "])[0]"
   ]
  }
 ],
 "metadata": {
  "kernelspec": {
   "display_name": "Python 3",
   "language": "python",
   "name": "python3"
  },
  "language_info": {
   "codemirror_mode": {
    "name": "ipython",
    "version": 3
   },
   "file_extension": ".py",
   "mimetype": "text/x-python",
   "name": "python",
   "nbconvert_exporter": "python",
   "pygments_lexer": "ipython3",
   "version": "3.8.5"
  },
  "toc": {
   "base_numbering": 1,
   "nav_menu": {},
   "number_sections": true,
   "sideBar": true,
   "skip_h1_title": false,
   "title_cell": "Table of Contents",
   "title_sidebar": "Contents",
   "toc_cell": false,
   "toc_position": {
    "height": "670px",
    "left": "385px",
    "top": "270px",
    "width": "307.188px"
   },
   "toc_section_display": true,
   "toc_window_display": true
  }
 },
 "nbformat": 4,
 "nbformat_minor": 4
}
